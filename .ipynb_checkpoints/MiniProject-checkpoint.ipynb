{
 "cells": [
  {
   "cell_type": "code",
   "execution_count": 1,
   "id": "676f4ea7-ee37-43d4-af12-b8189f9a408c",
   "metadata": {},
   "outputs": [],
   "source": [
    "import numpy as np\n",
    "\n",
    "class ANN:\n",
    "    def __init__(self,input_size,hidden_layers,hidden_neurons,output_size,learning_rate):\n",
    "        self.weights=[]\n",
    "        self.bias=[]\n",
    "        self.hidden_layers=hidden_layers\n",
    "        self.learning_rate=learning_rate;\n",
    "        \n",
    "        for i in range(hidden_layers+1):\n",
    "            if i==0:\n",
    "                self.weights.append(np.random.randn(hidden_neurons,input_size))\n",
    "                self.bias.append(np.full((hidden_neurons,1),1))\n",
    "            elif i==hidden_layers:\n",
    "                self.weights.append(np.random.randn(output_size,hidden_neurons))\n",
    "                self.bias.append(np.full((output_size,1),1))\n",
    "            else:\n",
    "                self.weights.append(np.random.randn(hidden_neurons,hidden_neurons))\n",
    "                self.bias.append(np.full((hidden_neurons,1),1))\n",
    "                \n",
    "    def sigmoid(self, x):\n",
    "        return 1 / (1 + np.exp(-x))\n",
    "\n",
    "    def first_order_sigmoid(self, x):\n",
    "        return self.sigmoid(x) * (1 - self.sigmoid(x))\n",
    "            \n",
    "    def forward(self,x):\n",
    "        activations=[]\n",
    "        activations.append(x)\n",
    "        for i in range(self.hidden_layers+1):\n",
    "            x=np.dot(self.weights[i],activations[i])+self.bias[i]\n",
    "            activations.append(self.sigmoid(x))\n",
    "        return activations\n",
    "\n",
    "    def backward(self,activations,di,m):\n",
    "        delta=(activations[-1]-di.T) * self.first_order_sigmoid(np.dot(self.weights[-1],activations[-2])+self.bias[-1])\n",
    "        for i in range(self.hidden_layers,-1,-1):\n",
    "            if i==self.hidden_layers:\n",
    "                prev=np.array(self.weights[i])\n",
    "                self.weights[i]=self.weights[i]-(self.learning_rate/m) * np.dot(delta,activations[i].T)\n",
    "                self.bias[i]=self.bias[i]-(self.learning_rate/m) * np.sum(delta,axis=1,keepdims=True)\n",
    "            else:\n",
    "                delta=np.dot(prev.T, delta) * self.first_order_sigmoid(np.dot(self.weights[i], activations[i])+self.bias[i])\n",
    "                prev=np.array(self.weights[i])\n",
    "                self.weights[i]=self.weights[i]-(self.learning_rate/m) * np.dot(delta,activations[i].T)\n",
    "                self.bias[i]=self.bias[i]-(self.learning_rate/m) * np.sum(delta,axis=1,keepdims=True)\n",
    "            \n",
    "    def train(self,x,y,epochs):\n",
    "        for i in range(epochs):\n",
    "            activations=self.forward(x)\n",
    "            m=x.shape[1]\n",
    "            self.backward(activations,y,m)\n",
    "            if(i%1000==0):\n",
    "                print(\"Error at %d epoch : \"%(i),np.sum(activations[-1]-y.T))\n",
    "            \n",
    "    def predict(self,x):\n",
    "        predictions=[]\n",
    "        for input in x:\n",
    "            prediction = self.forward(np.array(input))\n",
    "            predictions.append(prediction[-1])\n",
    "        return predictions\n",
    "        "
   ]
  },
  {
   "cell_type": "code",
   "execution_count": 2,
   "id": "f93d18a6-7500-4d2b-8f77-6b80dccede2e",
   "metadata": {},
   "outputs": [],
   "source": [
    "input_size=20\n",
    "hidden_layers=4\n",
    "neurons_in_hidden_layer=40\n",
    "output_size=2\n",
    "learning_rate=0.1\n",
    "\n",
    "model=ANN(input_size,hidden_layers,neurons_in_hidden_layer,output_size,learning_rate)"
   ]
  },
  {
   "cell_type": "code",
   "execution_count": 3,
   "id": "162f535e-affe-422c-978a-917ad10eb431",
   "metadata": {},
   "outputs": [],
   "source": [
    "import pandas as pd\n",
    "\n",
    "df=pd.read_csv('churn-bigml-80.csv')\n"
   ]
  },
  {
   "cell_type": "code",
   "execution_count": 4,
   "id": "7fb3046b",
   "metadata": {},
   "outputs": [],
   "source": [
    "from sklearn.preprocessing import LabelEncoder\n",
    "lc = LabelEncoder()\n",
    "\n",
    "df['State'] = lc.fit_transform(df['State'])\n",
    "df['International plan'] = lc.fit_transform(df['International plan'])\n",
    "df['ground_floor_type'] = lc.fit_transform(df['Voice mail plan'])\n",
    "df['Churn'] = lc.fit_transform(df['Churn'])\n",
    "df['Voice mail plan'] = lc.fit_transform(df['Voice mail plan'])"
   ]
  },
  {
   "cell_type": "code",
   "execution_count": 5,
   "id": "87593d84",
   "metadata": {},
   "outputs": [],
   "source": [
    "\n",
    "x = df.drop('Churn', axis=1)\n",
    "y=df['Churn']"
   ]
  },
  {
   "cell_type": "code",
   "execution_count": 6,
   "id": "537c5701",
   "metadata": {},
   "outputs": [
    {
     "data": {
      "text/plain": [
       "(2666, 21)"
      ]
     },
     "execution_count": 6,
     "metadata": {},
     "output_type": "execute_result"
    }
   ],
   "source": [
    "df.shape"
   ]
  },
  {
   "cell_type": "code",
   "execution_count": 7,
   "id": "c2728c7e",
   "metadata": {},
   "outputs": [
    {
     "data": {
      "text/plain": [
       "State                       int32\n",
       "Account length              int64\n",
       "Area code                   int64\n",
       "International plan          int32\n",
       "Voice mail plan             int32\n",
       "Number vmail messages       int64\n",
       "Total day minutes         float64\n",
       "Total day calls             int64\n",
       "Total day charge          float64\n",
       "Total eve minutes         float64\n",
       "Total eve calls             int64\n",
       "Total eve charge          float64\n",
       "Total night minutes       float64\n",
       "Total night calls           int64\n",
       "Total night charge        float64\n",
       "Total intl minutes        float64\n",
       "Total intl calls            int64\n",
       "Total intl charge         float64\n",
       "Customer service calls      int64\n",
       "Churn                       int64\n",
       "ground_floor_type           int32\n",
       "dtype: object"
      ]
     },
     "execution_count": 7,
     "metadata": {},
     "output_type": "execute_result"
    }
   ],
   "source": [
    "df.dtypes"
   ]
  },
  {
   "cell_type": "code",
   "execution_count": 8,
   "id": "0b9f4efb-0a06-4d41-b587-9fac4f837541",
   "metadata": {},
   "outputs": [
    {
     "name": "stdout",
     "output_type": "stream",
     "text": [
      "WARNING:tensorflow:From d:\\New folder\\envs\\ds_env\\Lib\\site-packages\\keras\\src\\losses.py:2976: The name tf.losses.sparse_softmax_cross_entropy is deprecated. Please use tf.compat.v1.losses.sparse_softmax_cross_entropy instead.\n",
      "\n"
     ]
    }
   ],
   "source": [
    "import numpy as np\n",
    "from sklearn.preprocessing import LabelEncoder\n",
    "label_encoder = LabelEncoder()\n",
    "encoded_labels = label_encoder.fit_transform(y)\n",
    "\n",
    "from sklearn.model_selection import train_test_split\n",
    "x_train,x_test,y_train,y_test=train_test_split(x,encoded_labels,test_size=0.2,random_state=62)\n",
    "\n",
    "from tensorflow.keras.utils import to_categorical\n",
    "\n",
    "labels = np.array(y_train)\n",
    "y_train = to_categorical(labels)\n",
    "y_train=np.array(y_train)"
   ]
  },
  {
   "cell_type": "code",
   "execution_count": 9,
   "id": "737d5d4a-9b12-436f-b441-3ff714f27cfe",
   "metadata": {},
   "outputs": [],
   "source": [
    "x_train=x_train.values\n",
    "x_train=np.array(x_train)\n",
    "x_train=x_train.T\n",
    "x_test=x_test.values"
   ]
  },
  {
   "cell_type": "code",
   "execution_count": 10,
   "id": "c609d4c4-3282-4f0e-b126-7034d9eb59d1",
   "metadata": {},
   "outputs": [
    {
     "data": {
      "text/plain": [
       "array([[1., 0.],\n",
       "       [1., 0.],\n",
       "       [1., 0.],\n",
       "       ...,\n",
       "       [1., 0.],\n",
       "       [0., 1.],\n",
       "       [1., 0.]], dtype=float32)"
      ]
     },
     "execution_count": 10,
     "metadata": {},
     "output_type": "execute_result"
    }
   ],
   "source": [
    "y_train"
   ]
  },
  {
   "cell_type": "code",
   "execution_count": 11,
   "id": "3408c98a-2b41-460d-a111-5a1908d58bbd",
   "metadata": {},
   "outputs": [
    {
     "name": "stderr",
     "output_type": "stream",
     "text": [
      "C:\\Users\\lenovo\\AppData\\Local\\Temp\\ipykernel_2600\\1263177278.py:22: RuntimeWarning: overflow encountered in exp\n",
      "  return 1 / (1 + np.exp(-x))\n"
     ]
    },
    {
     "name": "stdout",
     "output_type": "stream",
     "text": [
      "Error at 0 epoch :  -199.06152210171513\n",
      "Error at 1000 epoch :  -5.054703585434193\n",
      "Error at 2000 epoch :  -2.604023548334231\n",
      "Error at 3000 epoch :  4.507120261589649\n",
      "Error at 4000 epoch :  8.514630930092832\n",
      "Error at 5000 epoch :  10.665267414401306\n",
      "Error at 6000 epoch :  11.396080374098599\n",
      "Error at 7000 epoch :  11.360570171596784\n",
      "Error at 8000 epoch :  17.2612785029581\n",
      "Error at 9000 epoch :  14.391118381710926\n",
      "Error at 10000 epoch :  10.855447117664283\n",
      "Error at 11000 epoch :  6.926461222736296\n",
      "Error at 12000 epoch :  5.412061858694117\n",
      "Error at 13000 epoch :  4.186964672288908\n",
      "Error at 14000 epoch :  3.526682600506529\n",
      "Error at 15000 epoch :  3.59054775029478\n",
      "Error at 16000 epoch :  2.5268321078661877\n",
      "Error at 17000 epoch :  2.324457526647266\n",
      "Error at 18000 epoch :  3.3490071643860935\n",
      "Error at 19000 epoch :  3.7625084110438043\n",
      "Error at 20000 epoch :  3.127132778844558\n",
      "Error at 21000 epoch :  3.5002399966766906\n",
      "Error at 22000 epoch :  3.4166925978397327\n",
      "Error at 23000 epoch :  2.8814306332411563\n",
      "Error at 24000 epoch :  2.991196406049886\n",
      "Error at 25000 epoch :  2.7356271096130644\n",
      "Error at 26000 epoch :  3.269576162519914\n",
      "Error at 27000 epoch :  3.1274986085133234\n",
      "Error at 28000 epoch :  2.7978923444596338\n",
      "Error at 29000 epoch :  2.837134897870877\n",
      "Error at 30000 epoch :  2.3936973835704\n",
      "Error at 31000 epoch :  2.857143179389536\n",
      "Error at 32000 epoch :  1.769269139716918\n",
      "Error at 33000 epoch :  2.155866044879013\n",
      "Error at 34000 epoch :  2.5302369446847335\n",
      "Error at 35000 epoch :  2.3881894763021734\n",
      "Error at 36000 epoch :  1.8595865005310497\n",
      "Error at 37000 epoch :  2.1747204115565624\n",
      "Error at 38000 epoch :  2.6364944567066875\n",
      "Error at 39000 epoch :  1.6629981939770233\n",
      "Error at 40000 epoch :  1.9428376587492822\n",
      "Error at 41000 epoch :  2.2252439938914463\n",
      "Error at 42000 epoch :  1.823572730736907\n",
      "Error at 43000 epoch :  0.9148995484151747\n",
      "Error at 44000 epoch :  1.6253661075455024\n",
      "Error at 45000 epoch :  1.8321233207833663\n",
      "Error at 46000 epoch :  0.6624626846477053\n",
      "Error at 47000 epoch :  1.236759816070169\n",
      "Error at 48000 epoch :  1.0015920484273\n",
      "Error at 49000 epoch :  1.3647590625351511\n",
      "Error at 50000 epoch :  1.3172494460854587\n",
      "Error at 51000 epoch :  1.4610818583093104\n",
      "Error at 52000 epoch :  1.7765338360125509\n",
      "Error at 53000 epoch :  1.2819934103990924\n",
      "Error at 54000 epoch :  0.9056502801932904\n",
      "Error at 55000 epoch :  0.6481704189280015\n",
      "Error at 56000 epoch :  0.060363363206549\n",
      "Error at 57000 epoch :  -0.04502144103641825\n",
      "Error at 58000 epoch :  1.0973646315164665\n",
      "Error at 59000 epoch :  0.1773272014031697\n",
      "Error at 60000 epoch :  1.3925729598640704\n",
      "Error at 61000 epoch :  0.4791099392863174\n",
      "Error at 62000 epoch :  1.389177865060776\n",
      "Error at 63000 epoch :  -0.21567819960488155\n",
      "Error at 64000 epoch :  -0.07119834324197427\n",
      "Error at 65000 epoch :  1.5980001593203603\n",
      "Error at 66000 epoch :  0.6371660004110389\n",
      "Error at 67000 epoch :  1.4948866467945852\n",
      "Error at 68000 epoch :  0.7888420850383469\n",
      "Error at 69000 epoch :  1.0689806821908547\n",
      "Error at 70000 epoch :  -0.19332828470752483\n",
      "Error at 71000 epoch :  0.34544179596564817\n",
      "Error at 72000 epoch :  0.47403505309696436\n",
      "Error at 73000 epoch :  -0.05599940077024934\n",
      "Error at 74000 epoch :  0.36262320899004585\n",
      "Error at 75000 epoch :  0.29782075763704086\n",
      "Error at 76000 epoch :  -0.3422179693316165\n",
      "Error at 77000 epoch :  0.7888574692259125\n",
      "Error at 78000 epoch :  0.33964840028290855\n",
      "Error at 79000 epoch :  0.7839379056777838\n",
      "Error at 80000 epoch :  -0.4283117047393752\n",
      "Error at 81000 epoch :  0.6269560809299266\n",
      "Error at 82000 epoch :  0.2497278581428386\n",
      "Error at 83000 epoch :  0.1944454392639794\n",
      "Error at 84000 epoch :  -0.050892615477705405\n",
      "Error at 85000 epoch :  0.36625340904856607\n",
      "Error at 86000 epoch :  0.24079490036024076\n",
      "Error at 87000 epoch :  0.6031635564666682\n",
      "Error at 88000 epoch :  0.1578777806786813\n",
      "Error at 89000 epoch :  0.6863935929634404\n",
      "Error at 90000 epoch :  0.25479648633158547\n",
      "Error at 91000 epoch :  0.38546976763008667\n",
      "Error at 92000 epoch :  0.45238218755271387\n",
      "Error at 93000 epoch :  0.18976997565365217\n",
      "Error at 94000 epoch :  0.2923035801640128\n",
      "Error at 95000 epoch :  0.7741072203410617\n",
      "Error at 96000 epoch :  0.6982226751634171\n",
      "Error at 97000 epoch :  0.3068898254671808\n",
      "Error at 98000 epoch :  0.37900926161034487\n",
      "Error at 99000 epoch :  0.800507394400964\n"
     ]
    }
   ],
   "source": [
    "epochs=100000\n",
    "model.train(x_train,y_train,epochs)"
   ]
  },
  {
   "cell_type": "code",
   "execution_count": 14,
   "id": "99095d2b-561f-4f1c-8db7-ceba28fd3492",
   "metadata": {},
   "outputs": [],
   "source": [
    "test_sample=[]\n",
    "for i in x_test:\n",
    "    test_sample.append([[x] for x in i.tolist()])"
   ]
  },
  {
   "cell_type": "code",
   "execution_count": 15,
   "id": "73990906-ddc6-4cfd-9555-68dcd7053572",
   "metadata": {},
   "outputs": [
    {
     "name": "stderr",
     "output_type": "stream",
     "text": [
      "C:\\Users\\lenovo\\AppData\\Local\\Temp\\ipykernel_2600\\1263177278.py:22: RuntimeWarning: overflow encountered in exp\n",
      "  return 1 / (1 + np.exp(-x))\n"
     ]
    }
   ],
   "source": [
    "y_pred=model.predict(test_sample)\n",
    "y_pred = np.hstack([np.argmax(arr, axis=0) for arr in y_pred]).flatten()"
   ]
  },
  {
   "cell_type": "code",
   "execution_count": 16,
   "id": "28b030a9-750a-443a-b01d-1ea8d5f367ba",
   "metadata": {},
   "outputs": [
    {
     "name": "stdout",
     "output_type": "stream",
     "text": [
      "[0 0 0 0 0 1 1 0 0 0 0 0 0 0 0 0 0 0 0 0 0 0 0 0 0 0 0 0 0 1 0 0 1 0 0 0 0\n",
      " 0 0 0 1 0 0 0 0 1 0 0 1 0 0 0 0 0 0 0 0 0 0 0 0 0 0 0 0 0 0 0 0 0 0 0 0 0\n",
      " 1 0 1 0 1 0 0 0 0 0 0 0 0 0 0 0 0 0 0 1 0 0 0 0 0 0 0 0 0 1 0 0 0 0 0 0 0\n",
      " 0 0 0 1 0 0 0 0 0 0 1 0 0 0 0 0 0 1 0 0 0 0 0 1 0 0 0 0 0 0 0 0 0 0 0 0 0\n",
      " 1 0 0 0 0 0 0 0 1 0 0 0 0 1 0 1 1 1 0 0 1 0 0 0 0 0 0 0 0 0 0 0 0 0 0 0 0\n",
      " 1 0 0 0 0 0 0 0 0 0 0 1 1 0 0 0 0 0 0 0 1 0 0 1 0 0 0 0 0 0 0 0 0 0 0 0 0\n",
      " 1 0 1 0 0 0 0 0 0 0 0 0 0 0 0 0 0 0 0 0 0 0 0 0 0 0 0 0 0 0 0 0 0 0 0 1 0\n",
      " 0 0 0 0 0 0 0 0 0 0 0 0 0 1 1 0 0 0 0 0 0 0 1 0 1 1 0 0 0 0 0 0 0 0 0 0 0\n",
      " 0 0 0 0 0 0 0 0 0 0 0 0 1 0 0 0 0 0 0 0 0 0 1 1 0 0 0 1 0 0 0 0 0 0 0 0 0\n",
      " 0 0 0 0 0 0 0 0 0 0 0 1 0 0 0 0 0 0 1 0 0 1 1 0 0 0 1 0 0 1 0 0 0 0 0 0 0\n",
      " 0 0 0 0 0 0 0 0 0 0 1 0 0 0 0 0 0 0 1 0 0 0 0 0 0 0 0 0 0 0 1 0 0 1 0 0 0\n",
      " 0 0 0 0 0 1 0 1 0 0 0 0 0 1 0 1 0 1 0 0 0 0 0 0 0 0 0 0 1 0 0 0 0 0 0 1 0\n",
      " 0 0 0 0 1 0 0 0 0 0 1 1 0 0 0 0 0 0 0 0 0 0 0 1 1 0 0 0 0 1 0 0 0 0 1 0 0\n",
      " 0 0 0 0 1 0 0 0 1 0 0 0 0 0 0 0 1 1 0 0 0 0 1 0 0 0 0 0 0 0 0 0 0 0 0 1 0\n",
      " 0 0 0 0 0 1 1 0 0 0 0 0 1 0 0 0]\n"
     ]
    }
   ],
   "source": [
    "print(y_test)"
   ]
  },
  {
   "cell_type": "code",
   "execution_count": 17,
   "id": "a2b5513a-8616-44b8-8652-588ca04ab233",
   "metadata": {},
   "outputs": [
    {
     "name": "stdout",
     "output_type": "stream",
     "text": [
      "[0 0 0 0 0 0 1 0 0 0 0 0 0 0 0 0 1 0 0 0 0 0 0 0 0 0 0 0 0 0 0 0 1 0 0 0 0\n",
      " 1 0 0 1 0 0 0 0 0 0 0 0 0 0 0 0 0 0 0 0 0 0 0 0 0 0 0 0 0 0 0 0 0 0 0 0 0\n",
      " 1 0 0 0 1 0 0 0 0 0 0 0 0 0 0 0 0 0 0 0 0 0 0 0 0 0 0 0 0 0 0 0 0 0 0 0 0\n",
      " 0 0 0 1 0 0 0 0 0 0 0 0 0 0 0 0 0 0 0 0 0 0 0 1 0 0 0 0 0 0 0 0 0 0 0 0 0\n",
      " 0 0 0 0 0 0 0 0 1 0 0 0 0 0 0 0 1 0 0 0 0 0 0 1 0 0 0 0 0 0 0 0 0 0 0 0 0\n",
      " 0 0 0 0 0 0 0 0 0 0 0 0 0 0 0 0 0 0 0 0 1 0 0 0 0 0 0 0 0 0 0 0 0 0 0 0 0\n",
      " 1 0 0 0 0 0 0 0 0 0 0 0 0 0 0 0 0 0 0 0 0 0 0 0 0 0 0 0 0 0 0 0 0 0 0 0 0\n",
      " 0 0 0 0 0 0 0 0 0 0 0 0 0 1 0 0 0 0 0 0 0 0 0 0 1 1 0 0 0 0 0 0 0 0 0 0 0\n",
      " 0 0 0 0 0 0 0 0 0 0 0 0 0 0 0 0 0 0 0 0 0 0 0 0 0 0 0 0 0 0 0 0 0 0 0 0 0\n",
      " 0 0 0 0 0 0 0 0 0 0 0 0 0 0 0 0 0 0 0 0 0 1 0 0 0 0 1 0 0 0 0 0 0 0 0 0 0\n",
      " 0 0 0 0 0 0 0 0 0 0 0 0 0 0 0 0 0 0 1 0 1 0 0 0 0 0 0 0 0 0 0 0 0 0 0 0 0\n",
      " 0 0 0 0 0 0 0 1 1 0 0 0 0 1 0 0 0 0 0 0 0 0 0 0 0 0 0 0 0 0 0 0 0 0 0 0 0\n",
      " 0 0 0 0 0 0 0 0 0 0 0 1 0 0 0 0 0 0 0 0 0 0 0 1 0 0 0 0 0 0 0 0 0 0 0 0 0\n",
      " 0 0 0 0 0 0 0 1 0 0 0 0 0 0 0 0 0 0 0 0 0 0 0 0 0 0 0 0 0 0 0 0 0 0 0 1 0\n",
      " 0 0 0 0 0 0 0 0 0 0 0 0 0 0 0 0]\n"
     ]
    }
   ],
   "source": [
    "print(y_pred)"
   ]
  },
  {
   "cell_type": "code",
   "execution_count": 18,
   "id": "275dca7c-9ae8-40e1-9738-6a57b68d5e80",
   "metadata": {},
   "outputs": [
    {
     "name": "stdout",
     "output_type": "stream",
     "text": [
      "Accuracy: 0.8932584269662921\n",
      "Precision: 0.8836942246810346\n",
      "Recall: 0.8932584269662921\n",
      "F1-score: 0.8719630093681084\n"
     ]
    }
   ],
   "source": [
    "from sklearn.metrics import accuracy_score,f1_score,precision_score,recall_score,confusion_matrix\n",
    "accuracy=accuracy_score(y_test,y_pred)\n",
    "precision=precision_score(y_test,y_pred,average='weighted')\n",
    "recall=recall_score(y_test,y_pred,average='weighted')\n",
    "f1score=f1_score(y_test,y_pred,average='weighted')\n",
    "print(\"Accuracy:\", accuracy)\n",
    "print(\"Precision:\", precision)\n",
    "print(\"Recall:\", recall)\n",
    "print(\"F1-score:\", f1score)"
   ]
  },
  {
   "cell_type": "code",
   "execution_count": null,
   "id": "c935f300-1fc4-42b7-8974-1a9d8eb5833f",
   "metadata": {},
   "outputs": [],
   "source": []
  }
 ],
 "metadata": {
  "kernelspec": {
   "display_name": "Python 3 (ipykernel)",
   "language": "python",
   "name": "python3"
  },
  "language_info": {
   "codemirror_mode": {
    "name": "ipython",
    "version": 3
   },
   "file_extension": ".py",
   "mimetype": "text/x-python",
   "name": "python",
   "nbconvert_exporter": "python",
   "pygments_lexer": "ipython3",
   "version": "3.11.8"
  }
 },
 "nbformat": 4,
 "nbformat_minor": 5
}
